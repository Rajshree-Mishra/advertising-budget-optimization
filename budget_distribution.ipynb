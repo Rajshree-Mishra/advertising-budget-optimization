{
 "cells": [
  {
   "cell_type": "markdown",
   "id": "8c795856",
   "metadata": {},
   "source": [
    "# Optimization I\n",
    "# Project 1 - Linear Programming\n",
    "### Pranav Cheruku, Akshaya Mudar, Yingjia Shang, Rajshree Mishra"
   ]
  },
  {
   "cell_type": "code",
   "execution_count": 1,
   "id": "91f55fba",
   "metadata": {},
   "outputs": [],
   "source": [
    "#import necessary libraries and packages\n",
    "import gurobipy as gp \n",
    "import pandas as pd\n",
    "import numpy as np\n",
    "from matplotlib import pyplot as plt\n",
    "%matplotlib inline"
   ]
  },
  {
   "cell_type": "markdown",
   "id": "7859d2c6",
   "metadata": {},
   "source": [
    "# #1 Problem Statement\n",
    "Assume that your company is deciding how to spend a marketing budget of $10M. You work in the marketing department as a data scientist and the chief marketing officer has asked you write a report recommending how to spread this budget among several marketing mediums. Your department has employed an outside consulting firm to estimate the return on investment (ROI) of each marketing medium under consideration."
   ]
  },
  {
   "cell_type": "markdown",
   "id": "8014fb76",
   "metadata": {},
   "source": [
    "# #2 Constraints\n",
    "On top of these ROIs, your boss has decided to constrain your budget as follows:  \n",
    "    \n",
    "    a. The amount invested in print and TV should be no more than the amount spent on Facebook and Email. Surprisingly, email seems to be a great channel for reaching real people.\n",
    "    \n",
    "    b. The total amount used in social media (Facebook, LinkedIn, Instagram, Snapchat, and Twitter) should be at least twice of SEO and AdWords.\n",
    "    \n",
    "    c. For each platform, the amount invested should be no more than $3M."
   ]
  },
  {
   "cell_type": "markdown",
   "id": "341f4a6e",
   "metadata": {},
   "source": [
    "# #3\n",
    "Formulate the marketing budget allocation problem as a linear program. Use gurobi to find the\n",
    "optimal budget allocation."
   ]
  },
  {
   "cell_type": "code",
   "execution_count": 2,
   "id": "a4df1372",
   "metadata": {},
   "outputs": [],
   "source": [
    "#import given csv file\n",
    "df = pd.read_csv(\"ROI_data.csv\")"
   ]
  },
  {
   "cell_type": "code",
   "execution_count": 3,
   "id": "abf3ab25",
   "metadata": {},
   "outputs": [],
   "source": [
    "# set up objective vector using the number in the first row of the csv file\n",
    "obj = np.array([df.iloc[0,1],df.iloc[0,2],df.iloc[0,3],df.iloc[0,4], \\\n",
    "                df.iloc[0,5],df.iloc[0,6],df.iloc[0,7],df.iloc[0,8],df.iloc[0,9],df.iloc[0,10]])\n",
    "\n",
    "# initialize constraint matrix\n",
    "# create the left hand side of the constraints\n",
    "A = np.zeros((13,10)) \n",
    "A[0,:] = [1,1,0,0,-1,0,0,0,0,-1] \n",
    "A[1,:] = [0,0,-2,-2,1,1,1,1,1,0] \n",
    "A[2,:] = [1,1,1,1,1,1,1,1,1,1] \n",
    "A[3,:] = [1,0,0,0,0,0,0,0,0,0]\n",
    "A[4,:] = [0,1,0,0,0,0,0,0,0,0]\n",
    "A[5,:] = [0,0,1,0,0,0,0,0,0,0]\n",
    "A[6,:] = [0,0,0,1,0,0,0,0,0,0]\n",
    "A[7,:] = [0,0,0,0,1,0,0,0,0,0]\n",
    "A[8,:] = [0,0,0,0,0,1,0,0,0,0]\n",
    "A[9,:] = [0,0,0,0,0,0,1,0,0,0]\n",
    "A[10,:] = [0,0,0,0,0,0,0,1,0,0]\n",
    "A[11,:] = [0,0,0,0,0,0,0,0,1,0]\n",
    "A[12,:] = [0,0,0,0,0,0,0,0,0,1]\n",
    "\n",
    "# create the right hand side of the constraints\n",
    "b = np.array([0,0,10,3,3,3,3,3,3,3,3,3,3])\n",
    "\n",
    "# specify the direction of operator for each constraint\n",
    "sense = np.array(['<','>','<','<','<','<','<','<','<','<','<','<','<']) "
   ]
  },
  {
   "cell_type": "code",
   "execution_count": 4,
   "id": "7df05b45",
   "metadata": {},
   "outputs": [
    {
     "name": "stdout",
     "output_type": "stream",
     "text": [
      "Left hand side of constraints = \n",
      "[[ 1.  1.  0.  0. -1.  0.  0.  0.  0. -1.]\n",
      " [ 0.  0. -2. -2.  1.  1.  1.  1.  1.  0.]\n",
      " [ 1.  1.  1.  1.  1.  1.  1.  1.  1.  1.]\n",
      " [ 1.  0.  0.  0.  0.  0.  0.  0.  0.  0.]\n",
      " [ 0.  1.  0.  0.  0.  0.  0.  0.  0.  0.]\n",
      " [ 0.  0.  1.  0.  0.  0.  0.  0.  0.  0.]\n",
      " [ 0.  0.  0.  1.  0.  0.  0.  0.  0.  0.]\n",
      " [ 0.  0.  0.  0.  1.  0.  0.  0.  0.  0.]\n",
      " [ 0.  0.  0.  0.  0.  1.  0.  0.  0.  0.]\n",
      " [ 0.  0.  0.  0.  0.  0.  1.  0.  0.  0.]\n",
      " [ 0.  0.  0.  0.  0.  0.  0.  1.  0.  0.]\n",
      " [ 0.  0.  0.  0.  0.  0.  0.  0.  1.  0.]\n",
      " [ 0.  0.  0.  0.  0.  0.  0.  0.  0.  1.]]\n",
      "Right hand side of constraints = \n",
      "[ 0  0 10  3  3  3  3  3  3  3  3  3  3]\n"
     ]
    }
   ],
   "source": [
    "print(\"Left hand side of constraints = \")\n",
    "print(A)\n",
    "\n",
    "print(\"Right hand side of constraints = \")\n",
    "print(b)"
   ]
  },
  {
   "cell_type": "code",
   "execution_count": 5,
   "id": "447d09c1",
   "metadata": {},
   "outputs": [
    {
     "name": "stdout",
     "output_type": "stream",
     "text": [
      "Set parameter Username\n",
      "Academic license - for non-commercial use only - expires 2023-09-17\n"
     ]
    }
   ],
   "source": [
    "# initialize an empty model\n",
    "ojModel = gp.Model() \n",
    "\n",
    "# tell the model how many variables there are、adding model variables\n",
    "ojModX = ojModel.addMVar(10) \n",
    "# must define the variables before adding constraints because variables go into the constraints\n",
    "ojModCon = ojModel.addMConstrs(A, ojModX, sense, b) # add the constraints to the model\n",
    "ojModel.setMObjective(None,obj,0,sense=gp.GRB.MAXIMIZE) # add the objective to the model\n",
    "\n",
    "ojModel.Params.OutputFlag = 0 # tell gurobi to shut up!!\n",
    "ojModel.Params.TimeLimit = 3600\n",
    "\n",
    "ojModel.optimize() # solve the LP"
   ]
  },
  {
   "cell_type": "code",
   "execution_count": 6,
   "id": "35cc7303",
   "metadata": {},
   "outputs": [
    {
     "name": "stdout",
     "output_type": "stream",
     "text": [
      "The optimal ROI value is 0.45600000000000007 in millions of dollars\n"
     ]
    }
   ],
   "source": [
    "# Following the optimized marketing budget allocation, we get the optimal ROI\n",
    "ojModel.objVal \n",
    "print('The optimal ROI value is ' + str(ojModel.objVal) + ' in millions of dollars')"
   ]
  },
  {
   "cell_type": "code",
   "execution_count": 7,
   "id": "636f0af5",
   "metadata": {},
   "outputs": [
    {
     "data": {
      "text/plain": [
       "array([0., 3., 0., 1., 0., 0., 3., 0., 0., 3.])"
      ]
     },
     "execution_count": 7,
     "metadata": {},
     "output_type": "execute_result"
    }
   ],
   "source": [
    "# Marketing budget allocation for each media in millions of dollars\n",
    "ojModX.x "
   ]
  },
  {
   "cell_type": "code",
   "execution_count": 8,
   "id": "0ee51f5e",
   "metadata": {},
   "outputs": [],
   "source": [
    "# create a dictionary to store all the marketing channels given\n",
    "marketing = list(df.columns)[1:] \n",
    "marketing_dict = {}\n",
    "i = 0\n",
    "for word in marketing:\n",
    "    marketing_dict[word] = i\n",
    "    i = i + 1"
   ]
  },
  {
   "cell_type": "code",
   "execution_count": 9,
   "id": "e4005625",
   "metadata": {},
   "outputs": [],
   "source": [
    "# update the dictionary with the optimal budget calculated by Gurobi\n",
    "opt_budget = list(ojModel.x)\n",
    "opt_budget_dict = {}\n",
    "i = 0\n",
    "for each in marketing:\n",
    "    opt_budget_dict[each] = opt_budget[i]\n",
    "    i = i + 1"
   ]
  },
  {
   "cell_type": "code",
   "execution_count": 10,
   "id": "192aa949",
   "metadata": {},
   "outputs": [
    {
     "name": "stdout",
     "output_type": "stream",
     "text": [
      "Optimal marketing budget allocation for each media in millions of dollars\n",
      "TV           3.0\n",
      "Instagram    3.0\n",
      "Email        3.0\n",
      "AdWords      1.0\n",
      "Print        0.0\n",
      "SEO          0.0\n",
      "Facebook     0.0\n",
      "LinkedIn     0.0\n",
      "Snapchat     0.0\n",
      "Twitter      0.0\n",
      "dtype: float64\n"
     ]
    }
   ],
   "source": [
    "print(\"Optimal marketing budget allocation for each media in millions of dollars\")\n",
    "print(pd.Series(opt_budget_dict).sort_values(ascending=False))"
   ]
  },
  {
   "cell_type": "code",
   "execution_count": 11,
   "id": "7d417bbd",
   "metadata": {},
   "outputs": [
    {
     "data": {
      "text/plain": [
       "<AxesSubplot:>"
      ]
     },
     "execution_count": 11,
     "metadata": {},
     "output_type": "execute_result"
    },
    {
     "data": {
      "image/png": "[encoded data removed]",
      "text/plain": [
       "<Figure size 432x288 with 1 Axes>"
      ]
     },
     "metadata": {
      "needs_background": "light"
     },
     "output_type": "display_data"
    }
   ],
   "source": [
    "#plot the budget allocation\n",
    "pd.Series(opt_budget_dict).plot(kind = 'bar')"
   ]
  },
  {
   "cell_type": "code",
   "execution_count": 12,
   "id": "8f91666c",
   "metadata": {},
   "outputs": [],
   "source": [
    "#store the optimal values in a new variable\n",
    "alloc_1 = ojModX.x"
   ]
  },
  {
   "cell_type": "markdown",
   "id": "fac7e465",
   "metadata": {},
   "source": [
    "# #4\n",
    "Revise ROI data and compare the results with Q3"
   ]
  },
  {
   "cell_type": "code",
   "execution_count": 13,
   "id": "8ac168c5",
   "metadata": {},
   "outputs": [],
   "source": [
    "# set up objective vector using the number in the second row of the csv file\n",
    "obj2 = np.array([df.iloc[1,1],df.iloc[1,2],df.iloc[1,3],df.iloc[1,4], \\\n",
    "                df.iloc[1,5],df.iloc[1,6],df.iloc[1,7],df.iloc[1,8],df.iloc[1,9],df.iloc[1,10]]) \n",
    "\n",
    "# initialize constraint matrix\n",
    "# create the left hand side of the constraints\n",
    "A = np.zeros((13,10)) \n",
    "A[0,:] = [1,1,0,0,-1,0,0,0,0,-1] \n",
    "A[1,:] = [0,0,-2,-2,1,1,1,1,1,0] \n",
    "A[2,:] = [1,1,1,1,1,1,1,1,1,1] \n",
    "A[3,:] = [1,0,0,0,0,0,0,0,0,0]\n",
    "A[4,:] = [0,1,0,0,0,0,0,0,0,0]\n",
    "A[5,:] = [0,0,1,0,0,0,0,0,0,0]\n",
    "A[6,:] = [0,0,0,1,0,0,0,0,0,0]\n",
    "A[7,:] = [0,0,0,0,1,0,0,0,0,0]\n",
    "A[8,:] = [0,0,0,0,0,1,0,0,0,0]\n",
    "A[9,:] = [0,0,0,0,0,0,1,0,0,0]\n",
    "A[10,:] = [0,0,0,0,0,0,0,1,0,0]\n",
    "A[11,:] = [0,0,0,0,0,0,0,0,1,0]\n",
    "A[12,:] = [0,0,0,0,0,0,0,0,0,1]\n",
    "\n",
    "# create the right hand side of the constraints\n",
    "b = np.array([0,0,10,3,3,3,3,3,3,3,3,3,3]) \n",
    "\n",
    "# specify the direction of operator for each constraint\n",
    "sense = np.array(['<','>','<','<','<','<','<','<','<','<','<','<','<']) "
   ]
  },
  {
   "cell_type": "code",
   "execution_count": 14,
   "id": "10971ebf",
   "metadata": {},
   "outputs": [
    {
     "name": "stdout",
     "output_type": "stream",
     "text": [
      "Left hand side of constraints = \n",
      "[[ 1.  1.  0.  0. -1.  0.  0.  0.  0. -1.]\n",
      " [ 0.  0. -2. -2.  1.  1.  1.  1.  1.  0.]\n",
      " [ 1.  1.  1.  1.  1.  1.  1.  1.  1.  1.]\n",
      " [ 1.  0.  0.  0.  0.  0.  0.  0.  0.  0.]\n",
      " [ 0.  1.  0.  0.  0.  0.  0.  0.  0.  0.]\n",
      " [ 0.  0.  1.  0.  0.  0.  0.  0.  0.  0.]\n",
      " [ 0.  0.  0.  1.  0.  0.  0.  0.  0.  0.]\n",
      " [ 0.  0.  0.  0.  1.  0.  0.  0.  0.  0.]\n",
      " [ 0.  0.  0.  0.  0.  1.  0.  0.  0.  0.]\n",
      " [ 0.  0.  0.  0.  0.  0.  1.  0.  0.  0.]\n",
      " [ 0.  0.  0.  0.  0.  0.  0.  1.  0.  0.]\n",
      " [ 0.  0.  0.  0.  0.  0.  0.  0.  1.  0.]\n",
      " [ 0.  0.  0.  0.  0.  0.  0.  0.  0.  1.]]\n",
      "Right hand side of constraints = \n",
      "[ 0  0 10  3  3  3  3  3  3  3  3  3  3]\n"
     ]
    }
   ],
   "source": [
    "print(\"Left hand side of constraints = \")\n",
    "print(A)\n",
    "\n",
    "print(\"Right hand side of constraints = \")\n",
    "print(b)"
   ]
  },
  {
   "cell_type": "code",
   "execution_count": 15,
   "id": "69f25ce0",
   "metadata": {},
   "outputs": [],
   "source": [
    "# initialize an empty model\n",
    "ojModel2 = gp.Model() \n",
    "\n",
    "# tell the model how many variables there are、adding model variables\n",
    "ojModX2 = ojModel2.addMVar(10) \n",
    "# must define the variables before adding constraints because variables go into the constraints\n",
    "ojModCon2 = ojModel2.addMConstrs(A, ojModX2, sense, b) # add the constraints to the model\n",
    "ojModel2.setMObjective(None,obj2,0,sense=gp.GRB.MAXIMIZE) # add the objective to the model\n",
    "\n",
    "ojModel2.Params.OutputFlag = 0 # tell gurobi to shut up!!\n",
    "ojModel2.Params.TimeLimit = 3600\n",
    "\n",
    "ojModel2.optimize() # solve the LP"
   ]
  },
  {
   "cell_type": "code",
   "execution_count": 16,
   "id": "d2fe2c75",
   "metadata": {},
   "outputs": [
    {
     "name": "stdout",
     "output_type": "stream",
     "text": [
      "The optimal ROI value is 0.45600000000000007 in millions of dollars\n"
     ]
    }
   ],
   "source": [
    "# Following the optimized marketing budget allocation, we get the optimal ROI\n",
    "ojModel2.objVal\n",
    "print('The optimal ROI value is ' + str(ojModel2.objVal) + ' in millions of dollars')"
   ]
  },
  {
   "cell_type": "code",
   "execution_count": 17,
   "id": "49c103d3",
   "metadata": {},
   "outputs": [
    {
     "data": {
      "text/plain": [
       "array([3., 0., 0., 1., 3., 3., 0., 0., 0., 0.])"
      ]
     },
     "execution_count": 17,
     "metadata": {},
     "output_type": "execute_result"
    }
   ],
   "source": [
    "# Marketing budget allocation for each media in millions of dollars\n",
    "ojModX2.x "
   ]
  },
  {
   "cell_type": "code",
   "execution_count": 18,
   "id": "0ae2fe15",
   "metadata": {},
   "outputs": [],
   "source": [
    "# update the dictionary with the revised optimal budget calculated by Gurobi\n",
    "opt_budget2 = list(ojModel2.x)\n",
    "opt_budget_dict2 = {}\n",
    "i = 0\n",
    "for each in marketing:\n",
    "    opt_budget_dict2[each] = opt_budget2[i]\n",
    "    i = i + 1"
   ]
  },
  {
   "cell_type": "code",
   "execution_count": 19,
   "id": "f004357a",
   "metadata": {},
   "outputs": [
    {
     "name": "stdout",
     "output_type": "stream",
     "text": [
      "Revised optimal marketing budget allocation for each media in millions of dollars\n",
      "Print        3.0\n",
      "Facebook     3.0\n",
      "LinkedIn     3.0\n",
      "AdWords      1.0\n",
      "TV           0.0\n",
      "SEO          0.0\n",
      "Instagram    0.0\n",
      "Snapchat     0.0\n",
      "Twitter      0.0\n",
      "Email        0.0\n",
      "dtype: float64\n"
     ]
    }
   ],
   "source": [
    "print(\"Revised optimal marketing budget allocation for each media in millions of dollars\")\n",
    "print(pd.Series(opt_budget_dict2).sort_values(ascending=False))"
   ]
  },
  {
   "cell_type": "code",
   "execution_count": 20,
   "id": "cbe00971",
   "metadata": {},
   "outputs": [
    {
     "data": {
      "text/plain": [
       "<AxesSubplot:>"
      ]
     },
     "execution_count": 20,
     "metadata": {},
     "output_type": "execute_result"
    },
    {
     "data": {
      "image/png": "[encoded data removed]",
      "text/plain": [
       "<Figure size 432x288 with 1 Axes>"
      ]
     },
     "metadata": {
      "needs_background": "light"
     },
     "output_type": "display_data"
    }
   ],
   "source": [
    "#plot the budget allocation\n",
    "pd.Series(opt_budget_dict2).plot(kind = 'bar')"
   ]
  },
  {
   "cell_type": "code",
   "execution_count": 21,
   "id": "7f52c2d4",
   "metadata": {},
   "outputs": [],
   "source": [
    "#store the optimal values in a new variable\n",
    "alloc_2 = ojModX2.x "
   ]
  },
  {
   "cell_type": "markdown",
   "id": "79480e4d",
   "metadata": {},
   "source": [
    "# #5\n",
    "Are the allocations the same? Assuming the first ROI data is correct, if you were to use the second allocation (the allocation that assumed the second ROI data was correct) how much lower would the objective be relative to the optimal objective (the one that uses the first ROI data and the first allocation)? Assuming the second ROI data is correct, if you used the first allocation how much lower would the objective be relative to the optimal objective? Do you think the third constraint above, based on your boss’ experience, is useful?"
   ]
  },
  {
   "cell_type": "code",
   "execution_count": 22,
   "id": "70def9a6",
   "metadata": {},
   "outputs": [],
   "source": [
    "#Assuming the first ROI data is correct, using the second allocation\n",
    "M=np.matmul(alloc_2,obj)"
   ]
  },
  {
   "cell_type": "code",
   "execution_count": 23,
   "id": "398b3138",
   "metadata": {},
   "outputs": [
    {
     "data": {
      "text/plain": [
       "0.252"
      ]
     },
     "execution_count": 23,
     "metadata": {},
     "output_type": "execute_result"
    }
   ],
   "source": [
    "M"
   ]
  },
  {
   "cell_type": "code",
   "execution_count": 24,
   "id": "e69b3100",
   "metadata": {},
   "outputs": [
    {
     "data": {
      "text/plain": [
       "0.20400000000000007"
      ]
     },
     "execution_count": 24,
     "metadata": {},
     "output_type": "execute_result"
    }
   ],
   "source": [
    "ojModel2.objVal - M"
   ]
  },
  {
   "cell_type": "code",
   "execution_count": 51,
   "id": "5e68ed49",
   "metadata": {},
   "outputs": [
    {
     "name": "stdout",
     "output_type": "stream",
     "text": [
      "Assuming the first ROI data is correct, using the second allocation, it would be 0.204 less than the actual objective in millions of dollars\n"
     ]
    }
   ],
   "source": [
    "print('Assuming the first ROI data is correct, using the second allocation, it would be ' + str((ojModel2.objVal - M).round(3)) + \\\n",
    "      \" less than the actual objective in millions of dollars\")"
   ]
  },
  {
   "cell_type": "code",
   "execution_count": 25,
   "id": "7387a7fa",
   "metadata": {},
   "outputs": [],
   "source": [
    "#Assuming the second ROI data is correct, using the first allocation\n",
    "M2=np.matmul(alloc_1,obj2)"
   ]
  },
  {
   "cell_type": "code",
   "execution_count": 26,
   "id": "5dea1d90",
   "metadata": {},
   "outputs": [
    {
     "data": {
      "text/plain": [
       "0.264"
      ]
     },
     "execution_count": 26,
     "metadata": {},
     "output_type": "execute_result"
    }
   ],
   "source": [
    "M2"
   ]
  },
  {
   "cell_type": "code",
   "execution_count": 27,
   "id": "2dadfedc",
   "metadata": {},
   "outputs": [
    {
     "data": {
      "text/plain": [
       "0.19200000000000006"
      ]
     },
     "execution_count": 27,
     "metadata": {},
     "output_type": "execute_result"
    }
   ],
   "source": [
    "ojModel.objVal - M2"
   ]
  },
  {
   "cell_type": "code",
   "execution_count": 52,
   "id": "ca3048fd",
   "metadata": {},
   "outputs": [
    {
     "name": "stdout",
     "output_type": "stream",
     "text": [
      "Assuming the second ROI data is correct, using the first allocation, it would be 0.192 less than the actual objective in millions of dollars\n"
     ]
    }
   ],
   "source": [
    "print('Assuming the second ROI data is correct, using the first allocation, it would be ' + str((ojModel.objVal - M2).round(3)) + \\\n",
    "      \" less than the actual objective in millions of dollars\")"
   ]
  },
  {
   "cell_type": "code",
   "execution_count": 28,
   "id": "a741faa4",
   "metadata": {},
   "outputs": [],
   "source": [
    "# Testing the third constraint\n",
    "# Remove the third constraint in the linear program\n",
    "# set up objective vector using the number in the first row of the csv file\n",
    "obj3 = np.array([df.iloc[0,1],df.iloc[0,2],df.iloc[0,3],df.iloc[0,4], \\\n",
    "                df.iloc[0,5],df.iloc[0,6],df.iloc[0,7],df.iloc[0,8],df.iloc[0,9],df.iloc[0,10]]) \n",
    "\n",
    "# initialize constraint matrix\n",
    "# create the left hand side of the constraints\n",
    "A = np.zeros((3,10)) \n",
    "A[0,:] = [1,1,0,0,-1,0,0,0,0,-1] \n",
    "A[1,:] = [0,0,-2,-2,1,1,1,1,1,0] \n",
    "A[2,:] = [1,1,1,1,1,1,1,1,1,1] \n",
    "\n",
    "# create the right hand side of the constraints\n",
    "b = np.array([0,0,10]) \n",
    "\n",
    "# specify the direction of operator for each constraint\n",
    "sense = np.array(['<','>','<']) "
   ]
  },
  {
   "cell_type": "code",
   "execution_count": 29,
   "id": "2907551f",
   "metadata": {},
   "outputs": [],
   "source": [
    "# initialize an empty model\n",
    "ojModel3 = gp.Model() \n",
    "\n",
    "# tell the model how many variables there are、adding model variables\n",
    "ojModX3 = ojModel3.addMVar(10) \n",
    "# must define the variables before adding constraints because variables go into the constraints\n",
    "ojModCon3 = ojModel3.addMConstrs(A, ojModX3, sense, b) # add the constraints to the model\n",
    "ojModel3.setMObjective(None,obj3,0,sense=gp.GRB.MAXIMIZE) # add the objective to the model\n",
    "\n",
    "ojModel3.Params.OutputFlag = 0 # tell gurobi to shut up!!\n",
    "ojModel3.Params.TimeLimit = 3600\n",
    "\n",
    "ojModel3.optimize() # solve the LP"
   ]
  },
  {
   "cell_type": "code",
   "execution_count": 30,
   "id": "0617a83b",
   "metadata": {},
   "outputs": [
    {
     "data": {
      "text/plain": [
       "array([0., 5., 0., 0., 0., 0., 0., 0., 0., 5.])"
      ]
     },
     "execution_count": 30,
     "metadata": {},
     "output_type": "execute_result"
    }
   ],
   "source": [
    "# Marketing budget allocation for each media in millions of dollars\n",
    "ojModX3.x "
   ]
  },
  {
   "cell_type": "code",
   "execution_count": 31,
   "id": "9fdcb7a3",
   "metadata": {},
   "outputs": [
    {
     "name": "stdout",
     "output_type": "stream",
     "text": [
      "The optimal ROI value is 0.46499999999999997 in millions of dollars\n"
     ]
    }
   ],
   "source": [
    "# Following the optimized marketing budget allocation, we get the optimal ROI\n",
    "ojModel3.objVal\n",
    "print('The optimal ROI value is ' + str(ojModel3.objVal) + ' in millions of dollars')"
   ]
  },
  {
   "cell_type": "code",
   "execution_count": 32,
   "id": "2c22da93",
   "metadata": {},
   "outputs": [],
   "source": [
    "# Testing the third constraint\n",
    "# Remove the third constraint in the linear program\n",
    "# set up objective vector using the number in the second row of the csv file\n",
    "obj4 = np.array([df.iloc[1,1],df.iloc[1,2],df.iloc[1,3],df.iloc[1,4], \\\n",
    "                df.iloc[1,5],df.iloc[1,6],df.iloc[1,7],df.iloc[1,8],df.iloc[1,9],df.iloc[1,10]]) \n",
    "\n",
    "# initialize constraint matrix\n",
    "# create the left hand side of the constraints\n",
    "A = np.zeros((3,10)) \n",
    "A[0,:] = [1,1,0,0,-1,0,0,0,0,-1] \n",
    "A[1,:] = [0,0,-2,-2,1,1,1,1,1,0] \n",
    "A[2,:] = [1,1,1,1,1,1,1,1,1,1] \n",
    "\n",
    "# create the right hand side of the constraints\n",
    "b = np.array([0,0,10]) \n",
    "\n",
    "# specify the direction of operator for each constraint\n",
    "sense = np.array(['<','>','<']) "
   ]
  },
  {
   "cell_type": "code",
   "execution_count": 33,
   "id": "ea5a9104",
   "metadata": {},
   "outputs": [],
   "source": [
    "# initialize an empty model\n",
    "ojModel4 = gp.Model() \n",
    "\n",
    "# tell the model how many variables there are、adding model variables\n",
    "ojModX4 = ojModel4.addMVar(10) \n",
    "# must define the variables before adding constraints because variables go into the constraints\n",
    "ojModCon4 = ojModel4.addMConstrs(A, ojModX4, sense, b) # add the constraints to the model\n",
    "ojModel4.setMObjective(None,obj4,0,sense=gp.GRB.MAXIMIZE) # add the objective to the model\n",
    "\n",
    "ojModel4.Params.OutputFlag = 0 # tell gurobi to shut up!!\n",
    "ojModel4.Params.TimeLimit = 3600\n",
    "\n",
    "ojModel4.optimize() # solve the LP"
   ]
  },
  {
   "cell_type": "code",
   "execution_count": 34,
   "id": "a6e06b3e",
   "metadata": {},
   "outputs": [
    {
     "data": {
      "text/plain": [
       "array([5., 0., 0., 0., 5., 0., 0., 0., 0., 0.])"
      ]
     },
     "execution_count": 34,
     "metadata": {},
     "output_type": "execute_result"
    }
   ],
   "source": [
    "# Marketing budget allocation for each media in millions of dollars\n",
    "ojModX4.x "
   ]
  },
  {
   "cell_type": "code",
   "execution_count": 35,
   "id": "2fe7143b",
   "metadata": {},
   "outputs": [
    {
     "name": "stdout",
     "output_type": "stream",
     "text": [
      "The optimal ROI value is 0.46499999999999997 in millions of dollars\n"
     ]
    }
   ],
   "source": [
    "# Following the optimized marketing budget allocation, we get the optimal ROI\n",
    "ojModel4.objVal\n",
    "print('The optimal ROI value is ' + str(ojModel4.objVal) + ' in millions of dollars')"
   ]
  },
  {
   "cell_type": "markdown",
   "id": "4d2a1ef5",
   "metadata": {},
   "source": [
    "For the first ROI dataset, we would invest 5 million dollars each in TV and Email.For the second ROI dataset, we would invest 5 million dollars each in Print and Facebook. Additionally, there is an increase in the ROI from 0.456 million dollars to 0.465 million dollars.\n",
    "Removing the constraint would result in a higher ROI; however, our budget will mainly focus on the two medium that generate the highest returns. This would cause the risk in investment to increase. We think that adding the third constraint would be reasonable since it diversifies the investment and mitigate the risks."
   ]
  },
  {
   "cell_type": "markdown",
   "id": "391706d7",
   "metadata": {},
   "source": [
    "# #6\n",
    "To explore this further perform some analysis of how your optimal allocation would change based on changes in the ROI data. Use the first ROI data as your starting point. By how much could each advertising medium’s ROI increase or decrease and still result in the same optimal allocation you found in step (3)?"
   ]
  },
  {
   "cell_type": "code",
   "execution_count": 36,
   "id": "1a22fb31",
   "metadata": {},
   "outputs": [
    {
     "name": "stdout",
     "output_type": "stream",
     "text": [
      "[0.010000000000000002, 0.0, 0.039, 0.0, 0.0, 0.0, 0.0, 0.0, 0.0, 0.006999999999999999, 0.0, 0.0, 0.015]\n"
     ]
    }
   ],
   "source": [
    "# Sensitivity Analysis: calculate the shadow price for each constraint\n",
    "print([con.Pi for con in ojModCon])"
   ]
  },
  {
   "cell_type": "markdown",
   "id": "c12b010c",
   "metadata": {},
   "source": [
    "From the result, we observed that the 1st, 3rd, 10th, and 13th equations are non-zero. Thus, these functions are binding constraints. The other functions with a value of zero would be our non-binding constraints. The shadow prices tell us the change that our revenue will have on each unit change in the ROI, within the applicable range where the constraint is non-binding. \n",
    "For instance, an increase of 1 million dollars of total investment in SEO would give the company a 0.039M excess return. "
   ]
  },
  {
   "cell_type": "code",
   "execution_count": 37,
   "id": "c4e9c7ee",
   "metadata": {},
   "outputs": [
    {
     "data": {
      "text/plain": [
       "array([ -inf, 0.039,  -inf, 0.033,  -inf,  -inf, 0.039,  -inf,  -inf,\n",
       "       0.029])"
      ]
     },
     "execution_count": 37,
     "metadata": {},
     "output_type": "execute_result"
    }
   ],
   "source": [
    "#calculate the lower bound for the budget allocation of each media\n",
    "ojModX.SAObjLow"
   ]
  },
  {
   "cell_type": "code",
   "execution_count": 38,
   "id": "e825a344",
   "metadata": {},
   "outputs": [
    {
     "data": {
      "text/plain": [
       "array([0.049, 0.062, 0.039, 0.046, 0.029, 0.039,   inf, 0.039, 0.039,\n",
       "         inf])"
      ]
     },
     "execution_count": 38,
     "metadata": {},
     "output_type": "execute_result"
    }
   ],
   "source": [
    "#calculate the upper bound for the budget allocation of each media\n",
    "ojModX.SAObjUp"
   ]
  },
  {
   "cell_type": "code",
   "execution_count": 39,
   "id": "9cb05c2f",
   "metadata": {},
   "outputs": [],
   "source": [
    "lower_bound = ojModX.SAObjLow\n",
    "upper_bound = ojModX.SAObjUp"
   ]
  },
  {
   "cell_type": "code",
   "execution_count": 40,
   "id": "3518dfd6",
   "metadata": {},
   "outputs": [],
   "source": [
    "medium = list(marketing_dict)"
   ]
  },
  {
   "cell_type": "code",
   "execution_count": 41,
   "id": "ed089489",
   "metadata": {},
   "outputs": [
    {
     "data": {
      "text/html": [
       "<div>\n",
       "<style scoped>\n",
       "    .dataframe tbody tr th:only-of-type {\n",
       "        vertical-align: middle;\n",
       "    }\n",
       "\n",
       "    .dataframe tbody tr th {\n",
       "        vertical-align: top;\n",
       "    }\n",
       "\n",
       "    .dataframe thead th {\n",
       "        text-align: right;\n",
       "    }\n",
       "</style>\n",
       "<table border=\"1\" class=\"dataframe\">\n",
       "  <thead>\n",
       "    <tr style=\"text-align: right;\">\n",
       "      <th></th>\n",
       "      <th>Platform</th>\n",
       "      <th>Print</th>\n",
       "      <th>TV</th>\n",
       "      <th>SEO</th>\n",
       "      <th>AdWords</th>\n",
       "      <th>Facebook</th>\n",
       "      <th>LinkedIn</th>\n",
       "      <th>Instagram</th>\n",
       "      <th>Snapchat</th>\n",
       "      <th>Twitter</th>\n",
       "      <th>Email</th>\n",
       "    </tr>\n",
       "  </thead>\n",
       "  <tbody>\n",
       "    <tr>\n",
       "      <th>0</th>\n",
       "      <td>ROI</td>\n",
       "      <td>0.031</td>\n",
       "      <td>0.049</td>\n",
       "      <td>0.024</td>\n",
       "      <td>0.039</td>\n",
       "      <td>0.016</td>\n",
       "      <td>0.024</td>\n",
       "      <td>0.046</td>\n",
       "      <td>0.026</td>\n",
       "      <td>0.033</td>\n",
       "      <td>0.044</td>\n",
       "    </tr>\n",
       "  </tbody>\n",
       "</table>\n",
       "</div>"
      ],
      "text/plain": [
       "  Platform  Print     TV    SEO  AdWords  Facebook  LinkedIn  Instagram  \\\n",
       "0      ROI  0.031  0.049  0.024    0.039     0.016     0.024      0.046   \n",
       "\n",
       "   Snapchat  Twitter  Email  \n",
       "0     0.026    0.033  0.044  "
      ]
     },
     "execution_count": 41,
     "metadata": {},
     "output_type": "execute_result"
    }
   ],
   "source": [
    "df.iloc[[0]]"
   ]
  },
  {
   "cell_type": "code",
   "execution_count": 42,
   "id": "829d222e",
   "metadata": {},
   "outputs": [
    {
     "data": {
      "text/html": [
       "<div>\n",
       "<style scoped>\n",
       "    .dataframe tbody tr th:only-of-type {\n",
       "        vertical-align: middle;\n",
       "    }\n",
       "\n",
       "    .dataframe tbody tr th {\n",
       "        vertical-align: top;\n",
       "    }\n",
       "\n",
       "    .dataframe thead th {\n",
       "        text-align: right;\n",
       "    }\n",
       "</style>\n",
       "<table border=\"1\" class=\"dataframe\">\n",
       "  <thead>\n",
       "    <tr style=\"text-align: right;\">\n",
       "      <th></th>\n",
       "      <th>min_ROI</th>\n",
       "      <th>max_ROI</th>\n",
       "    </tr>\n",
       "    <tr>\n",
       "      <th>medium</th>\n",
       "      <th></th>\n",
       "      <th></th>\n",
       "    </tr>\n",
       "  </thead>\n",
       "  <tbody>\n",
       "    <tr>\n",
       "      <th>Print</th>\n",
       "      <td>-inf</td>\n",
       "      <td>0.049</td>\n",
       "    </tr>\n",
       "    <tr>\n",
       "      <th>TV</th>\n",
       "      <td>0.039</td>\n",
       "      <td>0.062</td>\n",
       "    </tr>\n",
       "    <tr>\n",
       "      <th>SEO</th>\n",
       "      <td>-inf</td>\n",
       "      <td>0.039</td>\n",
       "    </tr>\n",
       "    <tr>\n",
       "      <th>AdWords</th>\n",
       "      <td>0.033</td>\n",
       "      <td>0.046</td>\n",
       "    </tr>\n",
       "    <tr>\n",
       "      <th>Facebook</th>\n",
       "      <td>-inf</td>\n",
       "      <td>0.029</td>\n",
       "    </tr>\n",
       "    <tr>\n",
       "      <th>LinkedIn</th>\n",
       "      <td>-inf</td>\n",
       "      <td>0.039</td>\n",
       "    </tr>\n",
       "    <tr>\n",
       "      <th>Instagram</th>\n",
       "      <td>0.039</td>\n",
       "      <td>inf</td>\n",
       "    </tr>\n",
       "    <tr>\n",
       "      <th>Snapchat</th>\n",
       "      <td>-inf</td>\n",
       "      <td>0.039</td>\n",
       "    </tr>\n",
       "    <tr>\n",
       "      <th>Twitter</th>\n",
       "      <td>-inf</td>\n",
       "      <td>0.039</td>\n",
       "    </tr>\n",
       "    <tr>\n",
       "      <th>Email</th>\n",
       "      <td>0.029</td>\n",
       "      <td>inf</td>\n",
       "    </tr>\n",
       "  </tbody>\n",
       "</table>\n",
       "</div>"
      ],
      "text/plain": [
       "           min_ROI  max_ROI\n",
       "medium                     \n",
       "Print         -inf    0.049\n",
       "TV           0.039    0.062\n",
       "SEO           -inf    0.039\n",
       "AdWords      0.033    0.046\n",
       "Facebook      -inf    0.029\n",
       "LinkedIn      -inf    0.039\n",
       "Instagram    0.039      inf\n",
       "Snapchat      -inf    0.039\n",
       "Twitter       -inf    0.039\n",
       "Email        0.029      inf"
      ]
     },
     "execution_count": 42,
     "metadata": {},
     "output_type": "execute_result"
    }
   ],
   "source": [
    "pd.DataFrame({'medium':medium,'min_ROI':lower_bound,'max_ROI':upper_bound}).set_index('medium')"
   ]
  },
  {
   "cell_type": "markdown",
   "id": "d8b4b61f",
   "metadata": {},
   "source": [
    "We calculated how much could each advertising medium’s ROI change and still result in the same optimal allocation.\n",
    "\n",
    "For example:\n",
    "\n",
    "Print: The ROI for Print can increase up by .018 and still result in the same optimal allocation. It can decrease down by any degree and still result in the same optimal allocation.\n",
    "\n",
    "TV: The ROI for TV can increase up by .013 and still result in the same optimal allocation. It can decrease down by .010 and still result in the same optimal allocation.\n",
    "\n",
    "SEO: The ROI for SEO can increase up by .015 and still result in the same optimal allocation. It can decrease down by any degree and still result in the same optimal allocation. \n",
    "\n",
    "AdWords: The ROI for Adwords can increase by .007 and still result in the same optimal allocation. It can decrease down by .006 and still result in the same optimal allocation."
   ]
  },
  {
   "cell_type": "markdown",
   "id": "d3cee8cc",
   "metadata": {},
   "source": [
    "# #7\n",
    "Your boss has gained permission to reinvest half of the return. For example, if the marketing obtains a 4% return in January, the budget of February will be $10M + $10M × 4% × 50% = $10.2M. The monthly ROI for next year is given in Project1.Rdata. The three constraints given by your boss are still in place for each month. What is the optimal allocation for each month?"
   ]
  },
  {
   "cell_type": "code",
   "execution_count": 46,
   "id": "45d767bc",
   "metadata": {},
   "outputs": [
    {
     "data": {
      "text/html": [
       "<div>\n",
       "<style scoped>\n",
       "    .dataframe tbody tr th:only-of-type {\n",
       "        vertical-align: middle;\n",
       "    }\n",
       "\n",
       "    .dataframe tbody tr th {\n",
       "        vertical-align: top;\n",
       "    }\n",
       "\n",
       "    .dataframe thead th {\n",
       "        text-align: right;\n",
       "    }\n",
       "</style>\n",
       "<table border=\"1\" class=\"dataframe\">\n",
       "  <thead>\n",
       "    <tr style=\"text-align: right;\">\n",
       "      <th></th>\n",
       "      <th>Print</th>\n",
       "      <th>TV</th>\n",
       "      <th>SEO</th>\n",
       "      <th>AdWords</th>\n",
       "      <th>Facebook</th>\n",
       "      <th>LinkedIn</th>\n",
       "      <th>Instagram</th>\n",
       "      <th>Snapchat</th>\n",
       "      <th>Twitter</th>\n",
       "      <th>Email</th>\n",
       "      <th>optimal_outcome</th>\n",
       "      <th>new_budget_next_month</th>\n",
       "    </tr>\n",
       "    <tr>\n",
       "      <th>Unnamed: 0</th>\n",
       "      <th></th>\n",
       "      <th></th>\n",
       "      <th></th>\n",
       "      <th></th>\n",
       "      <th></th>\n",
       "      <th></th>\n",
       "      <th></th>\n",
       "      <th></th>\n",
       "      <th></th>\n",
       "      <th></th>\n",
       "      <th></th>\n",
       "      <th></th>\n",
       "    </tr>\n",
       "  </thead>\n",
       "  <tbody>\n",
       "    <tr>\n",
       "      <th>January</th>\n",
       "      <td>3000000.00</td>\n",
       "      <td>0.00</td>\n",
       "      <td>0</td>\n",
       "      <td>1333333.33</td>\n",
       "      <td>0.00</td>\n",
       "      <td>0</td>\n",
       "      <td>2666666.67</td>\n",
       "      <td>0</td>\n",
       "      <td>0.00</td>\n",
       "      <td>3000000.00</td>\n",
       "      <td>373000.00</td>\n",
       "      <td>10186500.00</td>\n",
       "    </tr>\n",
       "    <tr>\n",
       "      <th>February</th>\n",
       "      <td>3000000.00</td>\n",
       "      <td>0.00</td>\n",
       "      <td>0</td>\n",
       "      <td>2395500.00</td>\n",
       "      <td>3000000.00</td>\n",
       "      <td>0</td>\n",
       "      <td>0.00</td>\n",
       "      <td>0</td>\n",
       "      <td>1791000.00</td>\n",
       "      <td>0.00</td>\n",
       "      <td>406296.00</td>\n",
       "      <td>10203148.00</td>\n",
       "    </tr>\n",
       "    <tr>\n",
       "      <th>March</th>\n",
       "      <td>0.00</td>\n",
       "      <td>0.00</td>\n",
       "      <td>0</td>\n",
       "      <td>3000000.00</td>\n",
       "      <td>0.00</td>\n",
       "      <td>3000000</td>\n",
       "      <td>1203148.00</td>\n",
       "      <td>0</td>\n",
       "      <td>3000000.00</td>\n",
       "      <td>0.00</td>\n",
       "      <td>407516.48</td>\n",
       "      <td>10203758.24</td>\n",
       "    </tr>\n",
       "    <tr>\n",
       "      <th>April</th>\n",
       "      <td>0.00</td>\n",
       "      <td>0.00</td>\n",
       "      <td>0</td>\n",
       "      <td>3000000.00</td>\n",
       "      <td>0.00</td>\n",
       "      <td>3000000</td>\n",
       "      <td>3000000.00</td>\n",
       "      <td>0</td>\n",
       "      <td>1203758.24</td>\n",
       "      <td>0.00</td>\n",
       "      <td>400335.30</td>\n",
       "      <td>10200167.65</td>\n",
       "    </tr>\n",
       "    <tr>\n",
       "      <th>May</th>\n",
       "      <td>1200167.65</td>\n",
       "      <td>0.00</td>\n",
       "      <td>0</td>\n",
       "      <td>0.00</td>\n",
       "      <td>0.00</td>\n",
       "      <td>0</td>\n",
       "      <td>3000000.00</td>\n",
       "      <td>0</td>\n",
       "      <td>3000000.00</td>\n",
       "      <td>3000000.00</td>\n",
       "      <td>411005.87</td>\n",
       "      <td>10205502.93</td>\n",
       "    </tr>\n",
       "    <tr>\n",
       "      <th>June</th>\n",
       "      <td>3000000.00</td>\n",
       "      <td>0.00</td>\n",
       "      <td>0</td>\n",
       "      <td>0.00</td>\n",
       "      <td>0.00</td>\n",
       "      <td>0</td>\n",
       "      <td>3000000.00</td>\n",
       "      <td>0</td>\n",
       "      <td>1205502.93</td>\n",
       "      <td>3000000.00</td>\n",
       "      <td>423809.11</td>\n",
       "      <td>10211904.56</td>\n",
       "    </tr>\n",
       "    <tr>\n",
       "      <th>July</th>\n",
       "      <td>0.00</td>\n",
       "      <td>0.00</td>\n",
       "      <td>0</td>\n",
       "      <td>3000000.00</td>\n",
       "      <td>1211904.56</td>\n",
       "      <td>0</td>\n",
       "      <td>3000000.00</td>\n",
       "      <td>0</td>\n",
       "      <td>3000000.00</td>\n",
       "      <td>0.00</td>\n",
       "      <td>428264.28</td>\n",
       "      <td>10214132.14</td>\n",
       "    </tr>\n",
       "    <tr>\n",
       "      <th>August</th>\n",
       "      <td>2714132.14</td>\n",
       "      <td>0.00</td>\n",
       "      <td>0</td>\n",
       "      <td>1500000.00</td>\n",
       "      <td>0.00</td>\n",
       "      <td>0</td>\n",
       "      <td>0.00</td>\n",
       "      <td>0</td>\n",
       "      <td>3000000.00</td>\n",
       "      <td>3000000.00</td>\n",
       "      <td>437993.55</td>\n",
       "      <td>10218996.77</td>\n",
       "    </tr>\n",
       "    <tr>\n",
       "      <th>September</th>\n",
       "      <td>609498.39</td>\n",
       "      <td>0.00</td>\n",
       "      <td>0</td>\n",
       "      <td>3000000.00</td>\n",
       "      <td>0.00</td>\n",
       "      <td>3000000</td>\n",
       "      <td>0.00</td>\n",
       "      <td>0</td>\n",
       "      <td>3000000.00</td>\n",
       "      <td>609498.39</td>\n",
       "      <td>402712.38</td>\n",
       "      <td>10201356.19</td>\n",
       "    </tr>\n",
       "    <tr>\n",
       "      <th>October</th>\n",
       "      <td>0.00</td>\n",
       "      <td>0.00</td>\n",
       "      <td>0</td>\n",
       "      <td>3000000.00</td>\n",
       "      <td>0.00</td>\n",
       "      <td>3000000</td>\n",
       "      <td>3000000.00</td>\n",
       "      <td>0</td>\n",
       "      <td>0.00</td>\n",
       "      <td>1201356.19</td>\n",
       "      <td>371443.40</td>\n",
       "      <td>10185721.70</td>\n",
       "    </tr>\n",
       "    <tr>\n",
       "      <th>November</th>\n",
       "      <td>3000000.00</td>\n",
       "      <td>0.00</td>\n",
       "      <td>0</td>\n",
       "      <td>1185721.70</td>\n",
       "      <td>0.00</td>\n",
       "      <td>0</td>\n",
       "      <td>3000000.00</td>\n",
       "      <td>0</td>\n",
       "      <td>0.00</td>\n",
       "      <td>3000000.00</td>\n",
       "      <td>441614.59</td>\n",
       "      <td>10220807.29</td>\n",
       "    </tr>\n",
       "    <tr>\n",
       "      <th>December</th>\n",
       "      <td>3000000.00</td>\n",
       "      <td>2110403.65</td>\n",
       "      <td>0</td>\n",
       "      <td>0.00</td>\n",
       "      <td>3000000.00</td>\n",
       "      <td>0</td>\n",
       "      <td>0.00</td>\n",
       "      <td>0</td>\n",
       "      <td>0.00</td>\n",
       "      <td>2110403.65</td>\n",
       "      <td>432501.08</td>\n",
       "      <td>10216250.54</td>\n",
       "    </tr>\n",
       "  </tbody>\n",
       "</table>\n",
       "</div>"
      ],
      "text/plain": [
       "                 Print          TV  SEO     AdWords    Facebook  LinkedIn  \\\n",
       "Unnamed: 0                                                                  \n",
       "January     3000000.00        0.00    0  1333333.33        0.00         0   \n",
       "February    3000000.00        0.00    0  2395500.00  3000000.00         0   \n",
       "March             0.00        0.00    0  3000000.00        0.00   3000000   \n",
       "April             0.00        0.00    0  3000000.00        0.00   3000000   \n",
       "May         1200167.65        0.00    0        0.00        0.00         0   \n",
       "June        3000000.00        0.00    0        0.00        0.00         0   \n",
       "July              0.00        0.00    0  3000000.00  1211904.56         0   \n",
       "August      2714132.14        0.00    0  1500000.00        0.00         0   \n",
       "September    609498.39        0.00    0  3000000.00        0.00   3000000   \n",
       "October           0.00        0.00    0  3000000.00        0.00   3000000   \n",
       "November    3000000.00        0.00    0  1185721.70        0.00         0   \n",
       "December    3000000.00  2110403.65    0        0.00  3000000.00         0   \n",
       "\n",
       "             Instagram  Snapchat     Twitter       Email  optimal_outcome  \\\n",
       "Unnamed: 0                                                                  \n",
       "January     2666666.67         0        0.00  3000000.00        373000.00   \n",
       "February          0.00         0  1791000.00        0.00        406296.00   \n",
       "March       1203148.00         0  3000000.00        0.00        407516.48   \n",
       "April       3000000.00         0  1203758.24        0.00        400335.30   \n",
       "May         3000000.00         0  3000000.00  3000000.00        411005.87   \n",
       "June        3000000.00         0  1205502.93  3000000.00        423809.11   \n",
       "July        3000000.00         0  3000000.00        0.00        428264.28   \n",
       "August            0.00         0  3000000.00  3000000.00        437993.55   \n",
       "September         0.00         0  3000000.00   609498.39        402712.38   \n",
       "October     3000000.00         0        0.00  1201356.19        371443.40   \n",
       "November    3000000.00         0        0.00  3000000.00        441614.59   \n",
       "December          0.00         0        0.00  2110403.65        432501.08   \n",
       "\n",
       "            new_budget_next_month  \n",
       "Unnamed: 0                         \n",
       "January               10186500.00  \n",
       "February              10203148.00  \n",
       "March                 10203758.24  \n",
       "April                 10200167.65  \n",
       "May                   10205502.93  \n",
       "June                  10211904.56  \n",
       "July                  10214132.14  \n",
       "August                10218996.77  \n",
       "September             10201356.19  \n",
       "October               10185721.70  \n",
       "November              10220807.29  \n",
       "December              10216250.54  "
      ]
     },
     "execution_count": 46,
     "metadata": {},
     "output_type": "execute_result"
    }
   ],
   "source": [
    "Index_data = pd.read_csv('index_data.csv') #import given csv file\n",
    "output_df_5=Index_data.set_index('Unnamed: 0') #set index\n",
    "roi_mat = pd.read_csv('roi_mat.csv') #import given csv file\n",
    "roi_list=roi_mat.set_index('Unnamed: 0') #set index\n",
    "roi_list=roi_list/100 #to get the previous rounding of digits\n",
    "month_list=Index_data['Unnamed: 0'] #set index\n",
    "month_list\n",
    "results = pd.DataFrame(columns = ['month','optimal_outcome','new_budget_next_month'])      \n",
    "\n",
    "\n",
    "budget=10000000\n",
    "for month in month_list:\n",
    "    obj = roi_list.loc[month]\n",
    "    #metrics of multipliers\n",
    "    A = np.array([[1,1,1,1,1,1,1,1,1,1],[1,1,0,0,-1,0,0,0,0,-1],[0,0,-2,-2,1,1,1,1,1,0],[1,0,0,0,0,0,0,0,0,0],[0,1,0,0,0,0,0,0,0,0],[0,0,1,0,0,0,0,0,0,0],[0,0,0,1,0,0,0,0,0,0],[0,0,0,0,1,0,0,0,0,0],[0,0,0,0,0,1,0,0,0,0],[0,0,0,0,0,0,1,0,0,0],[0,0,0,0,0,0,0,1,0,0],[0,0,0,0,0,0,0,0,1,0],[0,0,0,0,0,0,0,0,0,1]])\n",
    "    b = np.array([budget,0,0,3000000,3000000,3000000,3000000,3000000,3000000,3000000,3000000,3000000,3000000]) # limits \n",
    "    #add the directions for each constraint\n",
    "    sense = np.array(['<','<','>','<','<','<','<','<','<','<','<','<','<']) \n",
    "    ojModel3 = gp.Model() # initialize an empty model\n",
    "    ojMod_x3 = ojModel3.addMVar(10) # tell the model how many variables there are\n",
    "    ojMod_con3 = ojModel3.addMConstrs(A, ojMod_x3, sense, b) # NAME THE CONSTRAINTS!!! so we can get information about them later!\n",
    "    ojModel3.setMObjective(None,obj,0,sense=gp.GRB.MAXIMIZE) # add the objective to the model\n",
    "    ojModel3.Params.OutputFlag = 0 # tell gurobi to shut up!!\n",
    "    ojModel3.optimize() # solve the LP\n",
    "    ojModel3.Objval\n",
    "    output_df_5.loc[month]=ojMod_x3.x #storing allocation for each month\n",
    "    budget=10000000+ojModel3.Objval*0.5\n",
    "    results.loc[len(results)] = [month,ojModel3.Objval,budget]\n",
    "\n",
    "# The optimal allocation in each month as well as the new budget for next month are shown in the following table:\n",
    "output_df_5\n",
    "output_df_5.join(results.set_index('month')).round(2)"
   ]
  },
  {
   "cell_type": "markdown",
   "id": "80bfee5e",
   "metadata": {},
   "source": [
    "# #8\n",
    "A stable budget is defined as a monthly allocation such that for each platform the monthly change in spend is no more than $1M. Is the allocation you found stable? If it isn’t, you do not need to solve a new optimization model. Describe how my might model this?"
   ]
  },
  {
   "cell_type": "code",
   "execution_count": 45,
   "id": "8c410068",
   "metadata": {},
   "outputs": [
    {
     "data": {
      "text/html": [
       "<div>\n",
       "<style scoped>\n",
       "    .dataframe tbody tr th:only-of-type {\n",
       "        vertical-align: middle;\n",
       "    }\n",
       "\n",
       "    .dataframe tbody tr th {\n",
       "        vertical-align: top;\n",
       "    }\n",
       "\n",
       "    .dataframe thead th {\n",
       "        text-align: right;\n",
       "    }\n",
       "</style>\n",
       "<table border=\"1\" class=\"dataframe\">\n",
       "  <thead>\n",
       "    <tr style=\"text-align: right;\">\n",
       "      <th></th>\n",
       "      <th>Print</th>\n",
       "      <th>TV</th>\n",
       "      <th>SEO</th>\n",
       "      <th>AdWords</th>\n",
       "      <th>Facebook</th>\n",
       "      <th>LinkedIn</th>\n",
       "      <th>Instagram</th>\n",
       "      <th>Snapchat</th>\n",
       "      <th>Twitter</th>\n",
       "      <th>Email</th>\n",
       "    </tr>\n",
       "    <tr>\n",
       "      <th>Unnamed: 0</th>\n",
       "      <th></th>\n",
       "      <th></th>\n",
       "      <th></th>\n",
       "      <th></th>\n",
       "      <th></th>\n",
       "      <th></th>\n",
       "      <th></th>\n",
       "      <th></th>\n",
       "      <th></th>\n",
       "      <th></th>\n",
       "    </tr>\n",
       "  </thead>\n",
       "  <tbody>\n",
       "    <tr>\n",
       "      <th>January</th>\n",
       "      <td>NaN</td>\n",
       "      <td>NaN</td>\n",
       "      <td>NaN</td>\n",
       "      <td>NaN</td>\n",
       "      <td>NaN</td>\n",
       "      <td>NaN</td>\n",
       "      <td>NaN</td>\n",
       "      <td>NaN</td>\n",
       "      <td>NaN</td>\n",
       "      <td>NaN</td>\n",
       "    </tr>\n",
       "    <tr>\n",
       "      <th>February</th>\n",
       "      <td>0.00</td>\n",
       "      <td>0.00</td>\n",
       "      <td>0.0</td>\n",
       "      <td>1062166.67</td>\n",
       "      <td>3000000.00</td>\n",
       "      <td>0.0</td>\n",
       "      <td>-2666666.67</td>\n",
       "      <td>0.0</td>\n",
       "      <td>1791000.00</td>\n",
       "      <td>-3000000.00</td>\n",
       "    </tr>\n",
       "    <tr>\n",
       "      <th>March</th>\n",
       "      <td>-3000000.00</td>\n",
       "      <td>0.00</td>\n",
       "      <td>0.0</td>\n",
       "      <td>604500.00</td>\n",
       "      <td>-3000000.00</td>\n",
       "      <td>3000000.0</td>\n",
       "      <td>1203148.00</td>\n",
       "      <td>0.0</td>\n",
       "      <td>1209000.00</td>\n",
       "      <td>0.00</td>\n",
       "    </tr>\n",
       "    <tr>\n",
       "      <th>April</th>\n",
       "      <td>0.00</td>\n",
       "      <td>0.00</td>\n",
       "      <td>0.0</td>\n",
       "      <td>0.00</td>\n",
       "      <td>0.00</td>\n",
       "      <td>0.0</td>\n",
       "      <td>1796852.00</td>\n",
       "      <td>0.0</td>\n",
       "      <td>-1796241.76</td>\n",
       "      <td>0.00</td>\n",
       "    </tr>\n",
       "    <tr>\n",
       "      <th>May</th>\n",
       "      <td>1200167.65</td>\n",
       "      <td>0.00</td>\n",
       "      <td>0.0</td>\n",
       "      <td>-3000000.00</td>\n",
       "      <td>0.00</td>\n",
       "      <td>-3000000.0</td>\n",
       "      <td>0.00</td>\n",
       "      <td>0.0</td>\n",
       "      <td>1796241.76</td>\n",
       "      <td>3000000.00</td>\n",
       "    </tr>\n",
       "    <tr>\n",
       "      <th>June</th>\n",
       "      <td>1799832.35</td>\n",
       "      <td>0.00</td>\n",
       "      <td>0.0</td>\n",
       "      <td>0.00</td>\n",
       "      <td>0.00</td>\n",
       "      <td>0.0</td>\n",
       "      <td>0.00</td>\n",
       "      <td>0.0</td>\n",
       "      <td>-1794497.07</td>\n",
       "      <td>0.00</td>\n",
       "    </tr>\n",
       "    <tr>\n",
       "      <th>July</th>\n",
       "      <td>-3000000.00</td>\n",
       "      <td>0.00</td>\n",
       "      <td>0.0</td>\n",
       "      <td>3000000.00</td>\n",
       "      <td>1211904.56</td>\n",
       "      <td>0.0</td>\n",
       "      <td>0.00</td>\n",
       "      <td>0.0</td>\n",
       "      <td>1794497.07</td>\n",
       "      <td>-3000000.00</td>\n",
       "    </tr>\n",
       "    <tr>\n",
       "      <th>August</th>\n",
       "      <td>2714132.14</td>\n",
       "      <td>0.00</td>\n",
       "      <td>0.0</td>\n",
       "      <td>-1500000.00</td>\n",
       "      <td>-1211904.56</td>\n",
       "      <td>0.0</td>\n",
       "      <td>-3000000.00</td>\n",
       "      <td>0.0</td>\n",
       "      <td>0.00</td>\n",
       "      <td>3000000.00</td>\n",
       "    </tr>\n",
       "    <tr>\n",
       "      <th>September</th>\n",
       "      <td>-2104633.75</td>\n",
       "      <td>0.00</td>\n",
       "      <td>0.0</td>\n",
       "      <td>1500000.00</td>\n",
       "      <td>0.00</td>\n",
       "      <td>3000000.0</td>\n",
       "      <td>0.00</td>\n",
       "      <td>0.0</td>\n",
       "      <td>0.00</td>\n",
       "      <td>-2390501.61</td>\n",
       "    </tr>\n",
       "    <tr>\n",
       "      <th>October</th>\n",
       "      <td>-609498.39</td>\n",
       "      <td>0.00</td>\n",
       "      <td>0.0</td>\n",
       "      <td>0.00</td>\n",
       "      <td>0.00</td>\n",
       "      <td>0.0</td>\n",
       "      <td>3000000.00</td>\n",
       "      <td>0.0</td>\n",
       "      <td>-3000000.00</td>\n",
       "      <td>591857.80</td>\n",
       "    </tr>\n",
       "    <tr>\n",
       "      <th>November</th>\n",
       "      <td>3000000.00</td>\n",
       "      <td>0.00</td>\n",
       "      <td>0.0</td>\n",
       "      <td>-1814278.30</td>\n",
       "      <td>0.00</td>\n",
       "      <td>-3000000.0</td>\n",
       "      <td>0.00</td>\n",
       "      <td>0.0</td>\n",
       "      <td>0.00</td>\n",
       "      <td>1798643.81</td>\n",
       "    </tr>\n",
       "    <tr>\n",
       "      <th>December</th>\n",
       "      <td>0.00</td>\n",
       "      <td>2110403.65</td>\n",
       "      <td>0.0</td>\n",
       "      <td>-1185721.70</td>\n",
       "      <td>3000000.00</td>\n",
       "      <td>0.0</td>\n",
       "      <td>-3000000.00</td>\n",
       "      <td>0.0</td>\n",
       "      <td>0.00</td>\n",
       "      <td>-889596.35</td>\n",
       "    </tr>\n",
       "  </tbody>\n",
       "</table>\n",
       "</div>"
      ],
      "text/plain": [
       "                 Print          TV  SEO     AdWords    Facebook   LinkedIn  \\\n",
       "Unnamed: 0                                                                   \n",
       "January            NaN         NaN  NaN         NaN         NaN        NaN   \n",
       "February          0.00        0.00  0.0  1062166.67  3000000.00        0.0   \n",
       "March      -3000000.00        0.00  0.0   604500.00 -3000000.00  3000000.0   \n",
       "April             0.00        0.00  0.0        0.00        0.00        0.0   \n",
       "May         1200167.65        0.00  0.0 -3000000.00        0.00 -3000000.0   \n",
       "June        1799832.35        0.00  0.0        0.00        0.00        0.0   \n",
       "July       -3000000.00        0.00  0.0  3000000.00  1211904.56        0.0   \n",
       "August      2714132.14        0.00  0.0 -1500000.00 -1211904.56        0.0   \n",
       "September  -2104633.75        0.00  0.0  1500000.00        0.00  3000000.0   \n",
       "October     -609498.39        0.00  0.0        0.00        0.00        0.0   \n",
       "November    3000000.00        0.00  0.0 -1814278.30        0.00 -3000000.0   \n",
       "December          0.00  2110403.65  0.0 -1185721.70  3000000.00        0.0   \n",
       "\n",
       "             Instagram  Snapchat     Twitter       Email  \n",
       "Unnamed: 0                                                \n",
       "January            NaN       NaN         NaN         NaN  \n",
       "February   -2666666.67       0.0  1791000.00 -3000000.00  \n",
       "March       1203148.00       0.0  1209000.00        0.00  \n",
       "April       1796852.00       0.0 -1796241.76        0.00  \n",
       "May               0.00       0.0  1796241.76  3000000.00  \n",
       "June              0.00       0.0 -1794497.07        0.00  \n",
       "July              0.00       0.0  1794497.07 -3000000.00  \n",
       "August     -3000000.00       0.0        0.00  3000000.00  \n",
       "September         0.00       0.0        0.00 -2390501.61  \n",
       "October     3000000.00       0.0 -3000000.00   591857.80  \n",
       "November          0.00       0.0        0.00  1798643.81  \n",
       "December   -3000000.00       0.0        0.00  -889596.35  "
      ]
     },
     "execution_count": 45,
     "metadata": {},
     "output_type": "execute_result"
    }
   ],
   "source": [
    "# Calculated the change in monthly allocation for each platform\n",
    "output_df_5.diff().round(2)"
   ]
  },
  {
   "cell_type": "markdown",
   "id": "722a49f9",
   "metadata": {},
   "source": [
    "As we can see, for some months the difference in spending is more than one million dollars, which implies that our model is not stable and we do not need to solve for a new optimization model. One way to model stability is define a stability constraint that restricts change in spending from month to month to at most one million dollars.\n"
   ]
  }
 ],
 "metadata": {
  "kernelspec": {
   "display_name": "Python 3 (ipykernel)",
   "language": "python",
   "name": "python3"
  },
  "language_info": {
   "codemirror_mode": {
    "name": "ipython",
    "version": 3
   },
   "file_extension": ".py",
   "mimetype": "text/x-python",
   "name": "python",
   "nbconvert_exporter": "python",
   "pygments_lexer": "ipython3",
   "version": "3.9.7"
  }
 },
 "nbformat": 4,
 "nbformat_minor": 5
}
